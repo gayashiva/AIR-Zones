{
 "cells": [
  {
   "cell_type": "code",
   "execution_count": 1,
   "id": "81333f30-3bf9-4bfc-9094-4fa797e3352e",
   "metadata": {},
   "outputs": [],
   "source": [
    "import rasterio # for the extension to load\n",
    "import xarray\n",
    "import geopandas as gpd\n",
    "from rasterio.windows import Window\n",
    "from rasterio.plot import show\n",
    "\n",
    "import matplotlib.pyplot as plt\n",
    "\n",
    "%matplotlib inline"
   ]
  },
  {
   "cell_type": "code",
   "execution_count": 3,
   "id": "46600a9d-fb8a-4741-9fb0-bdcb682c876e",
   "metadata": {},
   "outputs": [],
   "source": [
    "def plot_raster_with_windows(raster_path, window_size=(512, 512)):\n",
    "    with rasterio.open(raster_path) as src:\n",
    "        num_cols = src.width\n",
    "        num_rows = src.height\n",
    "\n",
    "        for row_off in range(0, num_rows, window_size[0]):\n",
    "            for col_off in range(0, num_cols, window_size[1]):\n",
    "                # Define the window boundaries\n",
    "                window = Window(col_off, row_off, min(window_size[1], num_cols - col_off),\n",
    "                                min(window_size[0], num_rows - row_off))\n",
    "\n",
    "                # Read the data in the window\n",
    "                data = src.read(1, window=window)\n",
    "\n",
    "                # Create the plot for the current window\n",
    "                plt.imshow(data, cmap='viridis')\n",
    "                plt.title(f\"Window: {window.toslices()}\")\n",
    "                plt.colorbar()\n",
    "                plt.show()"
   ]
  },
  {
   "cell_type": "code",
   "execution_count": 2,
   "id": "445fccc6-6cf4-4c55-9a47-c13287e24f8c",
   "metadata": {},
   "outputs": [],
   "source": [
    "def plot_full_raster(raster_path):\n",
    "    with rasterio.open(raster_path) as src:\n",
    "        data = src.read(1)\n",
    "\n",
    "        # Plot the full raster using rasterio.plot.show\n",
    "        plt.figure(figsize=(10, 10))\n",
    "        show(data, transform=src.transform, cmap='viridis')\n",
    "        plt.title(\"Full Raster\")\n",
    "        plt.colorbar()\n",
    "        plt.show()"
   ]
  },
  {
   "cell_type": "code",
   "execution_count": null,
   "id": "742c499d-42b8-409c-933b-a73a59010858",
   "metadata": {},
   "outputs": [],
   "source": [
    "# Read the RiverAtlas Shapefile\n",
    "dis_path = \"../data/HydroRIVERS_v10_shp/raster/reduced_HydroRIVERS_v10.tif\"\n",
    "\n",
    "dis = gpd.read_file(dis_path)\n",
    "df.head()"
   ]
  },
  {
   "cell_type": "code",
   "execution_count": 4,
   "id": "0249398c-7efa-4316-8b33-12875a5fdf4c",
   "metadata": {},
   "outputs": [
    {
     "data": {
      "text/plain": [
       "<open DatasetReader name='../data/GlobalMountainsK3Binary/k3binary.tif' mode='r'>"
      ]
     },
     "execution_count": 4,
     "metadata": {},
     "output_type": "execute_result"
    }
   ],
   "source": [
    "mountain_path = \"../data/GlobalMountainsK3Binary/k3binary.tif\"\n",
    "mt_ds = rasterio.open(mountain_path)\n",
    "mt_ds"
   ]
  },
  {
   "cell_type": "code",
   "execution_count": null,
   "id": "5475dcf7-d0a0-4613-845e-38e224e881e2",
   "metadata": {},
   "outputs": [],
   "source": [
    "plt.imshow(mt_ds.read(1))\n",
    "plt.show()"
   ]
  },
  {
   "cell_type": "code",
   "execution_count": null,
   "id": "69ede125-6722-4e59-a288-21fcdbaa4339",
   "metadata": {},
   "outputs": [],
   "source": [
    "raster_path = \"../data/GlobalMountainsK3Binary/k3binary.tif\"\n",
    "plot_full_raster(raster_path)"
   ]
  }
 ],
 "metadata": {
  "kernelspec": {
   "display_name": "Python 3 (ipykernel)",
   "language": "python",
   "name": "python3"
  },
  "language_info": {
   "codemirror_mode": {
    "name": "ipython",
    "version": 3
   },
   "file_extension": ".py",
   "mimetype": "text/x-python",
   "name": "python",
   "nbconvert_exporter": "python",
   "pygments_lexer": "ipython3",
   "version": "3.10.12"
  }
 },
 "nbformat": 4,
 "nbformat_minor": 5
}
