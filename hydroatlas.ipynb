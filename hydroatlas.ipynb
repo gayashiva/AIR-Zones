{
 "cells": [
  {
   "cell_type": "code",
   "execution_count": null,
   "id": "5f7fb389-6c3b-4437-b811-b91483826bd3",
   "metadata": {},
   "outputs": [],
   "source": [
    "import pandas as pd\n",
    "import geopandas as gpd\n",
    "\n",
    "filepath = \"/home/bsurya/Projects/AIR-Zones/data/20087486 (1)/RiverATLAS_v10_shp/RiverATLAS_v10_as.shp\"\n",
    "df = gpd.read_file(filepath)\n",
    "\n",
    "# Display the first 5 rows\n",
    "df.head()"
   ]
  },
  {
   "cell_type": "code",
   "execution_count": null,
   "id": "67b8a787-4990-49d7-bd71-c29a6331eb34",
   "metadata": {},
   "outputs": [],
   "source": []
  }
 ],
 "metadata": {
  "kernelspec": {
   "display_name": "Python 3 (ipykernel)",
   "language": "python",
   "name": "python3"
  },
  "language_info": {
   "codemirror_mode": {
    "name": "ipython",
    "version": 3
   },
   "file_extension": ".py",
   "mimetype": "text/x-python",
   "name": "python",
   "nbconvert_exporter": "python",
   "pygments_lexer": "ipython3",
   "version": "3.10.10"
  }
 },
 "nbformat": 4,
 "nbformat_minor": 5
}
